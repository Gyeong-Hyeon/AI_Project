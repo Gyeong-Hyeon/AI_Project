{
  "nbformat": 4,
  "nbformat_minor": 0,
  "metadata": {
    "colab": {
      "name": "Untitled9.ipynb",
      "provenance": [],
      "authorship_tag": "ABX9TyN3hSPQ8AsEYb1djlOJXvmn",
      "include_colab_link": true
    },
    "kernelspec": {
      "name": "python3",
      "display_name": "Python 3"
    }
  },
  "cells": [
    {
      "cell_type": "markdown",
      "metadata": {
        "id": "view-in-github",
        "colab_type": "text"
      },
      "source": [
        "<a href=\"https://colab.research.google.com/github/Gyeong-Hyeon/AI_Project/blob/main/Section2/AI_01_%EC%97%BC%EA%B2%BD%ED%98%84.ipynb\" target=\"_parent\"><img src=\"https://colab.research.google.com/assets/colab-badge.svg\" alt=\"Open In Colab\"/></a>"
      ]
    },
    {
      "cell_type": "code",
      "metadata": {
        "id": "8A_jxp3mjk0l"
      },
      "source": [
        "!pip install --upgrade category_encoders\r\n",
        "!pip install eli5\r\n",
        "!pip install pdpbox\r\n",
        "!pip install shap"
      ],
      "execution_count": null,
      "outputs": []
    },
    {
      "cell_type": "code",
      "metadata": {
        "id": "hj9NJrSjhaSa"
      },
      "source": [
        "from IPython.display import display\r\n",
        "import pandas as pd\r\n",
        "import seaborn as sns\r\n",
        "import matplotlib.pyplot as plt\r\n",
        "import numpy as np\r\n",
        "from sklearn.model_selection import train_test_split\r\n",
        "from sklearn.pipeline import make_pipeline\r\n",
        "from category_encoders import TargetEncoder\r\n",
        "from sklearn.experimental import enable_iterative_imputer\r\n",
        "from sklearn.impute import IterativeImputer, SimpleImputer\r\n",
        "from sklearn.ensemble import RandomForestClassifier\r\n",
        "from xgboost import XGBClassifier\r\n",
        "from sklearn.model_selection import GridSearchCV\r\n",
        "from sklearn.metrics import classification_report, f1_score, roc_curve, roc_auc_score\r\n",
        "import eli5\r\n",
        "from eli5.sklearn import PermutationImportance\r\n",
        "from pdpbox.pdp import pdp_isolate, pdp_plot, pdp_interact, pdp_interact_plot\r\n",
        "import shap\r\n",
        "import warnings"
      ],
      "execution_count": null,
      "outputs": []
    },
    {
      "cell_type": "markdown",
      "metadata": {
        "id": "gfIxX-Y6Vd37"
      },
      "source": [
        "#**1. 데이터 전처리 및 랭글링** "
      ]
    },
    {
      "cell_type": "markdown",
      "metadata": {
        "id": "gM36v0hMdXB8"
      },
      "source": [
        "##**1) 데이터 준비하기**"
      ]
    },
    {
      "cell_type": "code",
      "metadata": {
        "id": "hJH55LE-jeyE"
      },
      "source": [
        "#데이터를 불러옵니다.\r\n",
        "patient_21 = pd.read_csv('https://docs.google.com/spreadsheets/d/e/2PACX-1vQDLQ5Bdj7692BU0e1EwsEyG2h5cpyt8pcrXOQ3uOQixIQ4Qbrn5d6jX5WnxeNpWr3mrECiXgPWfkWf/pub?output=csv')\r\n",
        "vacc_21 = pd.read_csv('https://docs.google.com/spreadsheets/d/e/2PACX-1vTr60lC-MNfPA_PgY7NjtFPuV_uEgN5uETLUSJkeoruTZyluDhxzY8D0JVF4bijkbFJv6E2QNC2zZku/pub?output=csv')\r\n",
        "patient_20 = pd.read_csv('https://docs.google.com/spreadsheets/d/e/2PACX-1vSaR-9rRkFWSJYTRsI6KLXOBANnOpt5oNyJLd8rhnBE7dWslQ2QP69E5bfUO-cfXkdn2Elpvi549RcF/pub?output=csv')\r\n",
        "vacc_20 = pd.read_csv('https://docs.google.com/spreadsheets/d/e/2PACX-1vSbKt4I1BVWLqB6FyWAfcWr7lCFctvWd4b4C7YHNtcA9znBT-cs15Q1NM7ToBs5aczuX2_hK28KO6wA/pub?output=csv')\r\n",
        "\r\n",
        "#2020년 환자 데이터에 'Unnamed'라는 공란 컬럼을 삭제하겠습니다.\r\n",
        "patient_20 = patient_20.drop(columns=[col for col in patient_20.columns if 'Unnamed' in col])\r\n",
        "\r\n",
        "#2020년과 2021년 데이터를 합쳐줍니다.\r\n",
        "patient = pd.concat([patient_20,patient_21])\r\n",
        "vacc = pd.concat([vacc_20,vacc_21])\r\n",
        "\r\n",
        "dfs = [patient, vacc]\r\n",
        "\r\n",
        "for df in dfs:\r\n",
        "      print(df.shape)\r\n",
        "      display(df.head())\r\n",
        "      print('\\n')"
      ],
      "execution_count": null,
      "outputs": []
    },
    {
      "cell_type": "markdown",
      "metadata": {
        "id": "yyXgF9kZT1yk"
      },
      "source": [
        "* Patient: 환자의 정보가 담긴 데이터 셋\r\n",
        "* Vacc: 백신 정보가 담긴 데이터 셋\r\n",
        "\r\n",
        "💊VAERS_ID (고유 번호)를 기준으로 두 데이터를 합칠 수 있습니다.\r\n",
        "각 데이터별로 중복된 ID가 있는지 먼저 확인 해보겠습니다."
      ]
    },
    {
      "cell_type": "code",
      "metadata": {
        "colab": {
          "base_uri": "https://localhost:8080/"
        },
        "id": "SyjGRWk2lz1I",
        "outputId": "482431cc-601e-4254-af94-bf345003068e"
      },
      "source": [
        "#백신 데이터를 Covid 백신으로만 소팅합니다\r\n",
        "\r\n",
        "mask = vacc['VAX_TYPE'].isin(['COVID19'])\r\n",
        "covid_vac = vacc[mask]\r\n",
        "print('Length of Covid vaccine dataset:',len(covid_vac))\r\n",
        "\r\n",
        "#Covid 백신 데이터 셋의 VAERS_ID열에 중복된 데이터가 있는지 확인합니다.\r\n",
        "print('Duplicated VAERS ID in Covid vaccine dataset:',covid_vac.duplicated(['VAERS_ID']).sum())\r\n",
        "mask = covid_vac.duplicated(['VAERS_ID'])\r\n",
        "covid_duplicated = covid_vac[mask]\r\n",
        "covid_duplicated['VAERS_ID'].unique()"
      ],
      "execution_count": 62,
      "outputs": [
        {
          "output_type": "stream",
          "text": [
            "Length of Covid vaccine dataset: 14337\n",
            "Duplicated VAERS ID in Covid vaccine dataset: 78\n"
          ],
          "name": "stdout"
        },
        {
          "output_type": "execute_result",
          "data": {
            "text/plain": [
              "array([ 905340,  906428,  907330,  907837,  909370,  909520,  911085,\n",
              "        912442,  912896,  913038,  913869,  914017,  914458,  937480,\n",
              "        938126,  938576,  943614,  944595,  945504,  946663,  948418,\n",
              "        949732,  950911,  957227,  959928,  962110,  963587,  964617,\n",
              "        967274,  968195,  970198,  970515,  971567,  971939,  973816,\n",
              "        974177,  975206,  978768,  983425,  984929,  988246,  989556,\n",
              "        990109,  990118,  990694,  990702,  990718,  991686,  992082,\n",
              "        992774,  994007,  995346,  995419,  996577, 1000418, 1000733,\n",
              "       1000849, 1003553, 1005737, 1006745, 1007357, 1007628, 1007928,\n",
              "       1008767, 1009424, 1011689, 1011707, 1011983, 1015253, 1015465,\n",
              "       1015921, 1016770, 1016907, 1019670, 1020144, 1020227, 1022397,\n",
              "       1024343])"
            ]
          },
          "metadata": {
            "tags": []
          },
          "execution_count": 62
        }
      ]
    },
    {
      "cell_type": "markdown",
      "metadata": {
        "id": "nSF8hF0Uyugj"
      },
      "source": [
        "* **백신 데이터 중복 VAERS_ID:** 46개\r\n",
        "* **중복되는 경우**\r\n",
        "\r\n",
        "1. 같은 환자에게 다른 종류의 백신 접종 ⭐\r\n",
        "\r\n",
        "2. 같은 환자에게 다른 Lot의 백신 접종 → drop\r\n",
        "\r\n",
        "3. 백신 루트나 백신 접종 지역이 다름 → drop"
      ]
    },
    {
      "cell_type": "code",
      "metadata": {
        "colab": {
          "base_uri": "https://localhost:8080/"
        },
        "id": "6U8bDHc9tzlQ",
        "outputId": "dfc9a551-689d-467b-f70d-631b95828831"
      },
      "source": [
        "ids = [905340, 906428, 907330, 907837, 909370, 909520, 911085, 912442, 912896, 913038, 913869, 914017, 914458, 937480, 938126, 938576, 943614, 944595, 945504, 946663, 948418, 949732, 950911, 957227,\r\n",
        "       959928, 962110, 963587, 964617, 967274, 968195, 970198, 970515, 971567, 971939, 973816, 974177, 975206, 978768, 983425, 984929, 988246, 989556, 991686, 992082, 992774, 995419]\r\n",
        "\r\n",
        "for id in ids:\r\n",
        "  mask = covid_vac['VAERS_ID'].isin([id])\r\n",
        "  mask = covid_vac[mask]\r\n",
        "  if len(mask['VAX_NAME'].unique()) == 1:\r\n",
        "    pass\r\n",
        "  else:\r\n",
        "    print(mask[['VAERS_ID', 'VAX_DOSE_SERIES','VAX_NAME']],'\\n')"
      ],
      "execution_count": 63,
      "outputs": [
        {
          "output_type": "stream",
          "text": [
            "       VAERS_ID VAX_DOSE_SERIES                             VAX_NAME\n",
            "51963    912896               2          COVID19 (COVID19 (MODERNA))\n",
            "51964    912896               1  COVID19 (COVID19 (PFIZER-BIONTECH)) \n",
            "\n",
            "      VAERS_ID VAX_DOSE_SERIES                             VAX_NAME\n",
            "2524    967274             UNK          COVID19 (COVID19 (MODERNA))\n",
            "2525    967274             UNK  COVID19 (COVID19 (PFIZER-BIONTECH)) \n",
            "\n"
          ],
          "name": "stdout"
        }
      ]
    },
    {
      "cell_type": "markdown",
      "metadata": {
        "id": "q9u2uGLE1wJY"
      },
      "source": [
        "* 같은 백신을 투약한 VAERS_ID: 44개 (drop)\r\n",
        "\r\n",
        "* 다른 백신을 투약한 VAERS_ID: 912896, 967274"
      ]
    },
    {
      "cell_type": "code",
      "metadata": {
        "colab": {
          "base_uri": "https://localhost:8080/"
        },
        "id": "ukv1_umO1u48",
        "outputId": "4dbd4211-98e1-4f18-a487-23407a504878"
      },
      "source": [
        "duplicated = patient[patient['VAERS_ID'].isin([912896,967274])]\r\n",
        "for id,symp in zip(duplicated['VAERS_ID'],duplicated['SYMPTOM_TEXT']):\r\n",
        "  print('Patient#',id, symp)"
      ],
      "execution_count": 64,
      "outputs": [
        {
          "output_type": "stream",
          "text": [
            "Patient# 912896 patient received a dose of Moderna vaccine after receiving the Pfizer vaccine.\n",
            "Patient# 967274 I was pregnant and my baby died two days after I took it and I got really sick\n"
          ],
          "name": "stdout"
        }
      ]
    },
    {
      "cell_type": "markdown",
      "metadata": {
        "id": "xZP74fAi4Kvb"
      },
      "source": [
        "912896은 접종 후에 대한 증상이나 사망 여부 등 특별한 정보가 없으므로 삭제하겠습니다.\r\n",
        "\r\n",
        "967274는 태아가 죽은 것으로 확인 되나, 모더나와 화이자 중 어느 백신의 영향인지 알 수 없으므로 삭제하겠습니다."
      ]
    },
    {
      "cell_type": "code",
      "metadata": {
        "colab": {
          "base_uri": "https://localhost:8080/"
        },
        "id": "MJJXHGSxdqVh",
        "outputId": "0e91e070-d32e-4dba-cf32-ea671e0c9567"
      },
      "source": [
        "print('Duplicated VAERS ID in Patient dataset:',patient.duplicated(['VAERS_ID']).sum())"
      ],
      "execution_count": 65,
      "outputs": [
        {
          "output_type": "stream",
          "text": [
            "Duplicated VAERS ID in Patient dataset: 0\n"
          ],
          "name": "stdout"
        }
      ]
    },
    {
      "cell_type": "code",
      "metadata": {
        "colab": {
          "base_uri": "https://localhost:8080/"
        },
        "id": "9k3gSeRB5U5K",
        "outputId": "b4c75169-9bdd-4426-c13f-18fc1fe8dd28"
      },
      "source": [
        "covid = covid_vac[['VAERS_ID','VAX_MANU']]\r\n",
        "covid = covid.drop_duplicates(['VAERS_ID'])\r\n",
        "covid = pd.merge(covid, patient, on = ['VAERS_ID'], how = 'inner')\r\n",
        "print('기존 환자 수:',len(patient),'\\nCovid백신을 접종한 환자 수:',len(covid))"
      ],
      "execution_count": 66,
      "outputs": [
        {
          "output_type": "stream",
          "text": [
            "기존 환자 수: 14885 \n",
            "Covid백신을 접종한 환자 수: 14234\n"
          ],
          "name": "stdout"
        }
      ]
    },
    {
      "cell_type": "markdown",
      "metadata": {
        "id": "xDPVI61vmqEm"
      },
      "source": [
        "##**2) 데이터 전처리**\r\n"
      ]
    },
    {
      "cell_type": "markdown",
      "metadata": {
        "id": "uXOFvwlPLeVA"
      },
      "source": [
        "1. 필요 없는 column drop: VAERS_ID, RECVDATE, STATE, CAGE_YR, CAGE_MO, RPT_DATE, DATEDIED, ER_VISIT, HOSPITAL, HOSPDAYS, LAB_DATA, \r\n",
        "\r\n",
        "2. 결측치 정리\r\n",
        "\r\n"
      ]
    },
    {
      "cell_type": "code",
      "metadata": {
        "colab": {
          "base_uri": "https://localhost:8080/"
        },
        "id": "eGRO_rUUK-qj",
        "outputId": "e7bc3827-2073-4da7-af45-c7665d7f0295"
      },
      "source": [
        "covid.isnull().sum()"
      ],
      "execution_count": 51,
      "outputs": [
        {
          "output_type": "execute_result",
          "data": {
            "text/plain": [
              "VAERS_ID            0\n",
              "VAX_MANU            0\n",
              "RECVDATE           25\n",
              "STATE            1537\n",
              "AGE_YRS          1107\n",
              "CAGE_YR          2897\n",
              "CAGE_MO         12597\n",
              "SEX                25\n",
              "RPT_DATE        12462\n",
              "SYMPTOM_TEXT       25\n",
              "DIED            12012\n",
              "DATEDIED        12068\n",
              "L_THREAT        12160\n",
              "ER_VISIT        12608\n",
              "HOSPITAL        11257\n",
              "HOSPDAYS        11743\n",
              "X_STAY          12619\n",
              "DISABLE         12427\n",
              "RECOVD           1058\n",
              "VAX_DATE          493\n",
              "ONSET_DATE        590\n",
              "NUMDAYS           932\n",
              "LAB_DATA         6414\n",
              "V_ADMINBY          37\n",
              "V_FUNDBY        12443\n",
              "OTHER_MEDS       4939\n",
              "CUR_ILL          6383\n",
              "HISTORY          4259\n",
              "PRIOR_VAX       12126\n",
              "SPLTTYPE         9419\n",
              "FORM_VERS          41\n",
              "TODAYS_DATE       298\n",
              "BIRTH_DEFECT    12610\n",
              "OFC_VISIT       10980\n",
              "ER_ED_VISIT      9869\n",
              "ALLERGIES        5235\n",
              "dtype: int64"
            ]
          },
          "metadata": {
            "tags": []
          },
          "execution_count": 51
        }
      ]
    },
    {
      "cell_type": "code",
      "metadata": {
        "colab": {
          "base_uri": "https://localhost:8080/"
        },
        "id": "GrJXLpxDPrd5",
        "outputId": "4bcd6b4f-bc62-4e36-aae3-0133d2eb7710"
      },
      "source": [
        "previous = covid['AGE_YRS'].isnull().sum()\r\n",
        "covid['AGE_YRS'] = np.where(pd.notnull(covid['AGE_YRS']) == True, covid['AGE_YRS'], ['CAGE_YR'])\r\n",
        "current = covid['AGE_YRS'].isnull().sum()\r\n",
        "print('CAGE_YR을 통해', previous-current,'개의 결측값을 채웠으며, 현재 나이 특성의 결측치 갯수는',current,'개입니다.')"
      ],
      "execution_count": 67,
      "outputs": [
        {
          "output_type": "stream",
          "text": [
            "CAGE_YR을 통해 1372 개의 결측값을 채웠으며, 현재 나이 특성의 결측치 갯수는 0 개입니다.\n"
          ],
          "name": "stdout"
        }
      ]
    },
    {
      "cell_type": "code",
      "metadata": {
        "colab": {
          "base_uri": "https://localhost:8080/"
        },
        "id": "ZMu-RjXe_vjw",
        "outputId": "270603ac-0dfe-4571-a1b9-1e9934e0ea27"
      },
      "source": [
        "covid.SEX.value_counts()"
      ],
      "execution_count": 116,
      "outputs": [
        {
          "output_type": "execute_result",
          "data": {
            "text/plain": [
              "F    10434\n",
              "M     3354\n",
              "U      446\n",
              "Name: SEX, dtype: int64"
            ]
          },
          "metadata": {
            "tags": []
          },
          "execution_count": 116
        }
      ]
    },
    {
      "cell_type": "code",
      "metadata": {
        "id": "vXeKduOWFMfX"
      },
      "source": [
        "for symp,sex in zip(covid['SYMPTOM_TEXT'],covid['SEX']):\r\n",
        "  if sex == None:\r\n",
        "    print(symp)\r\n",
        "  else: pass"
      ],
      "execution_count": 128,
      "outputs": []
    },
    {
      "cell_type": "code",
      "metadata": {
        "colab": {
          "base_uri": "https://localhost:8080/"
        },
        "id": "l1DthBpRF0nz",
        "outputId": "0ce545bd-03e1-4a06-d2af-cf1918de3833"
      },
      "source": [
        "covid['SEX'].isnull().sum()"
      ],
      "execution_count": 129,
      "outputs": [
        {
          "output_type": "execute_result",
          "data": {
            "text/plain": [
              "0"
            ]
          },
          "metadata": {
            "tags": []
          },
          "execution_count": 129
        }
      ]
    },
    {
      "cell_type": "code",
      "metadata": {
        "colab": {
          "base_uri": "https://localhost:8080/"
        },
        "id": "W4N4_fjmmnSy",
        "outputId": "518d986b-2e56-4915-8d43-5b7a1a21f83b"
      },
      "source": [
        "previous = covid['SEX'].isnull().sum()\r\n",
        "covid['split_symp'] = covid.SYMPTOM_TEXT.str.split(' ')\r\n",
        "new_sex = []\r\n",
        "for symptom, sex in zip(covid['split_symp'],covid['SEX']):\r\n",
        "  if sex == None or sex == 'U':\r\n",
        "    if 'she' in symptom or 'She' in symptom or 'woman' in symptom:\r\n",
        "      new_sex.append('F')\r\n",
        "    elif 'he' in symptom or 'He' in symptom or 'man' in symptom:\r\n",
        "      new_sex.append('M')\r\n",
        "    else:\r\n",
        "      new_sex.append(sex)\r\n",
        "  else: \r\n",
        "    new_sex.append(sex)\r\n",
        "\r\n",
        "covid['NEW_SEX'] = new_sex\r\n",
        "current = covid['NEW_SEX'].isnull().sum()\r\n",
        "print(covid.NEW_SEX.value_counts(),'\\n 증상 컬럼을 통해',previous-current,'개의 결측치를 채웠습니다.')   "
      ],
      "execution_count": 126,
      "outputs": [
        {
          "output_type": "stream",
          "text": [
            "F    10470\n",
            "M     3378\n",
            "U      386\n",
            "Name: NEW_SEX, dtype: int64 \n",
            " 증상 컬럼을 통해 0 개의 결측치를 채웠습니다.\n"
          ],
          "name": "stdout"
        }
      ]
    },
    {
      "cell_type": "code",
      "metadata": {
        "colab": {
          "base_uri": "https://localhost:8080/",
          "height": 226
        },
        "id": "1-cK9uFdmnQ2",
        "outputId": "1601058f-2ede-40c1-bca3-4eac19e9970f"
      },
      "source": [
        "b = []\r\n",
        "for value,sex in zip(a[1],a['Sex']):\r\n",
        "  if sex == None or sex == 'U':\r\n",
        "    if 'she' in value or 'She' in value:\r\n",
        "      b.append('W')\r\n",
        "    elif 'he' in value or 'He' in value:\r\n",
        "      b.append('M')\r\n",
        "  else:\r\n",
        "    b.append(sex)\r\n",
        "\r\n",
        "a['sex'] = b\r\n",
        "a   "
      ],
      "execution_count": 115,
      "outputs": [
        {
          "output_type": "execute_result",
          "data": {
            "text/html": [
              "<div>\n",
              "<style scoped>\n",
              "    .dataframe tbody tr th:only-of-type {\n",
              "        vertical-align: middle;\n",
              "    }\n",
              "\n",
              "    .dataframe tbody tr th {\n",
              "        vertical-align: top;\n",
              "    }\n",
              "\n",
              "    .dataframe thead th {\n",
              "        text-align: right;\n",
              "    }\n",
              "</style>\n",
              "<table border=\"1\" class=\"dataframe\">\n",
              "  <thead>\n",
              "    <tr style=\"text-align: right;\">\n",
              "      <th></th>\n",
              "      <th>1</th>\n",
              "      <th>Sex</th>\n",
              "      <th>2</th>\n",
              "      <th>sex</th>\n",
              "    </tr>\n",
              "  </thead>\n",
              "  <tbody>\n",
              "    <tr>\n",
              "      <th>0</th>\n",
              "      <td>he is a famer</td>\n",
              "      <td>None</td>\n",
              "      <td>[he, is, a, famer]</td>\n",
              "      <td>M</td>\n",
              "    </tr>\n",
              "    <tr>\n",
              "      <th>1</th>\n",
              "      <td>she is a farmer</td>\n",
              "      <td>None</td>\n",
              "      <td>[she, is, a, farmer]</td>\n",
              "      <td>W</td>\n",
              "    </tr>\n",
              "    <tr>\n",
              "      <th>2</th>\n",
              "      <td>She</td>\n",
              "      <td>W</td>\n",
              "      <td>[She]</td>\n",
              "      <td>W</td>\n",
              "    </tr>\n",
              "    <tr>\n",
              "      <th>3</th>\n",
              "      <td>He</td>\n",
              "      <td>M</td>\n",
              "      <td>[He]</td>\n",
              "      <td>M</td>\n",
              "    </tr>\n",
              "    <tr>\n",
              "      <th>4</th>\n",
              "      <td>She</td>\n",
              "      <td>U</td>\n",
              "      <td>[She]</td>\n",
              "      <td>W</td>\n",
              "    </tr>\n",
              "    <tr>\n",
              "      <th>5</th>\n",
              "      <td>He</td>\n",
              "      <td>U</td>\n",
              "      <td>[He]</td>\n",
              "      <td>M</td>\n",
              "    </tr>\n",
              "  </tbody>\n",
              "</table>\n",
              "</div>"
            ],
            "text/plain": [
              "                 1   Sex                     2 sex\n",
              "0    he is a famer  None    [he, is, a, famer]   M\n",
              "1  she is a farmer  None  [she, is, a, farmer]   W\n",
              "2              She     W                 [She]   W\n",
              "3               He     M                  [He]   M\n",
              "4              She     U                 [She]   W\n",
              "5               He     U                  [He]   M"
            ]
          },
          "metadata": {
            "tags": []
          },
          "execution_count": 115
        }
      ]
    }
  ]
}