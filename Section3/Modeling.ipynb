{
  "nbformat": 4,
  "nbformat_minor": 0,
  "metadata": {
    "colab": {
      "name": "Modeling.ipynb",
      "provenance": [],
      "collapsed_sections": []
    },
    "kernelspec": {
      "name": "python3",
      "display_name": "Python 3"
    },
    "language_info": {
      "name": "python"
    }
  },
  "cells": [
    {
      "cell_type": "code",
      "metadata": {
        "colab": {
          "base_uri": "https://localhost:8080/",
          "height": 296
        },
        "id": "xX6nocbNeczM",
        "outputId": "8bd6cc12-93db-4279-f7b2-2f1953c41fd0"
      },
      "source": [
        "import pandas as pd\n",
        "df = pd.read_excel('https://docs.google.com/spreadsheets/d/e/2PACX-1vQjMc_wQgzuMRjgU4LLBwgAekcaV2Bnz6mnFmU0Fkum-4oJWbhzOd5T1vWdBKWueg/pub?output=xlsx')\n",
        "df.head()"
      ],
      "execution_count": 1,
      "outputs": [
        {
          "output_type": "execute_result",
          "data": {
            "text/html": [
              "<div>\n",
              "<style scoped>\n",
              "    .dataframe tbody tr th:only-of-type {\n",
              "        vertical-align: middle;\n",
              "    }\n",
              "\n",
              "    .dataframe tbody tr th {\n",
              "        vertical-align: top;\n",
              "    }\n",
              "\n",
              "    .dataframe thead th {\n",
              "        text-align: right;\n",
              "    }\n",
              "</style>\n",
              "<table border=\"1\" class=\"dataframe\">\n",
              "  <thead>\n",
              "    <tr style=\"text-align: right;\">\n",
              "      <th></th>\n",
              "      <th>지점</th>\n",
              "      <th>일시</th>\n",
              "      <th>월</th>\n",
              "      <th>일</th>\n",
              "      <th>시간</th>\n",
              "      <th>풍속(m/s)</th>\n",
              "      <th>풍향(deg)</th>\n",
              "      <th>GUST풍속(m/s)</th>\n",
              "      <th>현지기압(hPa)</th>\n",
              "      <th>습도(%)</th>\n",
              "      <th>기온(°C)</th>\n",
              "      <th>수온(°C)</th>\n",
              "      <th>최대파고(m)</th>\n",
              "      <th>유의파고(m)</th>\n",
              "      <th>평균파고(m)</th>\n",
              "      <th>파주기(sec)</th>\n",
              "      <th>파향(deg)</th>\n",
              "      <th>타겟최대파고(m)</th>\n",
              "      <th>타겟평균파고(m)</th>\n",
              "      <th>타겟파주기(sec)</th>\n",
              "    </tr>\n",
              "  </thead>\n",
              "  <tbody>\n",
              "    <tr>\n",
              "      <th>0</th>\n",
              "      <td>22107</td>\n",
              "      <td>2020-03-01 01:00:00</td>\n",
              "      <td>3</td>\n",
              "      <td>1</td>\n",
              "      <td>1</td>\n",
              "      <td>7.2</td>\n",
              "      <td>80.0</td>\n",
              "      <td>9.0</td>\n",
              "      <td>1016.6</td>\n",
              "      <td>77</td>\n",
              "      <td>14.3</td>\n",
              "      <td>16.1</td>\n",
              "      <td>1.7</td>\n",
              "      <td>1.2</td>\n",
              "      <td>0.8</td>\n",
              "      <td>5.8</td>\n",
              "      <td>116.0</td>\n",
              "      <td>0.5</td>\n",
              "      <td>0.2</td>\n",
              "      <td>5.8</td>\n",
              "    </tr>\n",
              "    <tr>\n",
              "      <th>1</th>\n",
              "      <td>22107</td>\n",
              "      <td>2020-03-01 02:00:00</td>\n",
              "      <td>3</td>\n",
              "      <td>1</td>\n",
              "      <td>2</td>\n",
              "      <td>8.6</td>\n",
              "      <td>82.0</td>\n",
              "      <td>10.1</td>\n",
              "      <td>1016.1</td>\n",
              "      <td>77</td>\n",
              "      <td>14.7</td>\n",
              "      <td>16.2</td>\n",
              "      <td>1.6</td>\n",
              "      <td>1.1</td>\n",
              "      <td>0.8</td>\n",
              "      <td>4.9</td>\n",
              "      <td>115.0</td>\n",
              "      <td>0.5</td>\n",
              "      <td>0.2</td>\n",
              "      <td>5.5</td>\n",
              "    </tr>\n",
              "    <tr>\n",
              "      <th>2</th>\n",
              "      <td>22107</td>\n",
              "      <td>2020-03-01 03:00:00</td>\n",
              "      <td>3</td>\n",
              "      <td>1</td>\n",
              "      <td>3</td>\n",
              "      <td>8.4</td>\n",
              "      <td>80.0</td>\n",
              "      <td>10.1</td>\n",
              "      <td>1016.1</td>\n",
              "      <td>76</td>\n",
              "      <td>14.8</td>\n",
              "      <td>16.1</td>\n",
              "      <td>1.6</td>\n",
              "      <td>1.1</td>\n",
              "      <td>0.8</td>\n",
              "      <td>4.9</td>\n",
              "      <td>102.0</td>\n",
              "      <td>0.4</td>\n",
              "      <td>0.2</td>\n",
              "      <td>5.5</td>\n",
              "    </tr>\n",
              "    <tr>\n",
              "      <th>3</th>\n",
              "      <td>22107</td>\n",
              "      <td>2020-03-01 04:00:00</td>\n",
              "      <td>3</td>\n",
              "      <td>1</td>\n",
              "      <td>4</td>\n",
              "      <td>8.5</td>\n",
              "      <td>71.0</td>\n",
              "      <td>10.7</td>\n",
              "      <td>1015.3</td>\n",
              "      <td>83</td>\n",
              "      <td>13.8</td>\n",
              "      <td>16.1</td>\n",
              "      <td>1.4</td>\n",
              "      <td>1.0</td>\n",
              "      <td>0.7</td>\n",
              "      <td>3.8</td>\n",
              "      <td>112.0</td>\n",
              "      <td>0.5</td>\n",
              "      <td>0.3</td>\n",
              "      <td>5.8</td>\n",
              "    </tr>\n",
              "    <tr>\n",
              "      <th>4</th>\n",
              "      <td>22107</td>\n",
              "      <td>2020-03-01 05:00:00</td>\n",
              "      <td>3</td>\n",
              "      <td>1</td>\n",
              "      <td>5</td>\n",
              "      <td>7.6</td>\n",
              "      <td>82.0</td>\n",
              "      <td>9.4</td>\n",
              "      <td>1015.9</td>\n",
              "      <td>75</td>\n",
              "      <td>14.4</td>\n",
              "      <td>16.1</td>\n",
              "      <td>1.7</td>\n",
              "      <td>1.1</td>\n",
              "      <td>0.7</td>\n",
              "      <td>4.0</td>\n",
              "      <td>102.0</td>\n",
              "      <td>0.5</td>\n",
              "      <td>0.2</td>\n",
              "      <td>5.3</td>\n",
              "    </tr>\n",
              "  </tbody>\n",
              "</table>\n",
              "</div>"
            ],
            "text/plain": [
              "      지점                  일시  월  일  ...  파향(deg)  타겟최대파고(m)  타겟평균파고(m)  타겟파주기(sec)\n",
              "0  22107 2020-03-01 01:00:00  3  1  ...    116.0        0.5        0.2         5.8\n",
              "1  22107 2020-03-01 02:00:00  3  1  ...    115.0        0.5        0.2         5.5\n",
              "2  22107 2020-03-01 03:00:00  3  1  ...    102.0        0.4        0.2         5.5\n",
              "3  22107 2020-03-01 04:00:00  3  1  ...    112.0        0.5        0.3         5.8\n",
              "4  22107 2020-03-01 05:00:00  3  1  ...    102.0        0.5        0.2         5.3\n",
              "\n",
              "[5 rows x 20 columns]"
            ]
          },
          "metadata": {
            "tags": []
          },
          "execution_count": 1
        }
      ]
    },
    {
      "cell_type": "code",
      "metadata": {
        "colab": {
          "base_uri": "https://localhost:8080/"
        },
        "id": "6JUQRKippgSd",
        "outputId": "0057ac48-899b-49e1-c9d2-f3fa2e952e46"
      },
      "source": [
        "import datetime as dt\n",
        "\n",
        "df['일시'] = pd.to_datetime(df['일시'])\n",
        "df['일시'] = df['일시'].map(dt.datetime.toordinal)\n",
        "\n",
        "df.dtypes"
      ],
      "execution_count": 2,
      "outputs": [
        {
          "output_type": "execute_result",
          "data": {
            "text/plain": [
              "지점               int64\n",
              "일시               int64\n",
              "월                int64\n",
              "일                int64\n",
              "시간               int64\n",
              "풍속(m/s)        float64\n",
              "풍향(deg)        float64\n",
              "GUST풍속(m/s)    float64\n",
              "현지기압(hPa)      float64\n",
              "습도(%)            int64\n",
              "기온(°C)         float64\n",
              "수온(°C)         float64\n",
              "최대파고(m)        float64\n",
              "유의파고(m)        float64\n",
              "평균파고(m)        float64\n",
              "파주기(sec)       float64\n",
              "파향(deg)        float64\n",
              "타겟최대파고(m)      float64\n",
              "타겟평균파고(m)      float64\n",
              "타겟파주기(sec)     float64\n",
              "dtype: object"
            ]
          },
          "metadata": {
            "tags": []
          },
          "execution_count": 2
        }
      ]
    },
    {
      "cell_type": "code",
      "metadata": {
        "colab": {
          "base_uri": "https://localhost:8080/"
        },
        "id": "R9tt8X0hh8UX",
        "outputId": "3aed569d-0d93-46d9-dc26-4da108b7678b"
      },
      "source": [
        "from sklearn.model_selection import train_test_split\n",
        "\n",
        "df = df.dropna()\n",
        "\n",
        "train, test = train_test_split(df, train_size=0.8, random_state=10)\n",
        "\n",
        "print(len(train), len(test))"
      ],
      "execution_count": 3,
      "outputs": [
        {
          "output_type": "stream",
          "text": [
            "6383 1596\n"
          ],
          "name": "stdout"
        }
      ]
    },
    {
      "cell_type": "code",
      "metadata": {
        "colab": {
          "base_uri": "https://localhost:8080/"
        },
        "id": "4UIScW8flJeC",
        "outputId": "4465023d-8adb-4ea7-d217-670fab646428"
      },
      "source": [
        "target1 = '타겟평균파고(m)'\n",
        "target2 = '타겟파주기(sec)'\n",
        "target3 = '타겟최대파고(m)'\n",
        "\n",
        "data = df.drop(columns=[target1,target2,target3])\n",
        "\n",
        "features = [col for col in data.columns]\n",
        "\n",
        "X_train = train[features]\n",
        "X_test = test[features]\n",
        "\n",
        "y_train1 = train[target1]\n",
        "y_test1 = test[target1]\n",
        "\n",
        "y_train2 = train[target2]\n",
        "y_test2 = test[target2]\n",
        "\n",
        "y_train3 = train[target3]\n",
        "y_test3 = test[target3]\n",
        "\n",
        "print(y_train1.head(2), y_train2.head(2), y_train3.head(2))"
      ],
      "execution_count": 4,
      "outputs": [
        {
          "output_type": "stream",
          "text": [
            "3270    0.5\n",
            "8375    0.3\n",
            "Name: 타겟평균파고(m), dtype: float64 3270    6.1\n",
            "8375    5.0\n",
            "Name: 타겟파주기(sec), dtype: float64 3270    1.2\n",
            "8375    0.7\n",
            "Name: 타겟최대파고(m), dtype: float64\n"
          ],
          "name": "stdout"
        }
      ]
    },
    {
      "cell_type": "markdown",
      "metadata": {
        "id": "qAWUoDAwxh6M"
      },
      "source": [
        "###* 평균파고 예측 모델"
      ]
    },
    {
      "cell_type": "code",
      "metadata": {
        "colab": {
          "base_uri": "https://localhost:8080/"
        },
        "id": "_IXbyKNQshqz",
        "outputId": "87d05274-e6dd-42d0-9784-1f9c6f161606"
      },
      "source": [
        "from sklearn.model_selection import RandomizedSearchCV\n",
        "from sklearn.ensemble import RandomForestRegressor\n",
        "\n",
        "dists = {\n",
        "    'max_depth': [10,20,40,50,100,120], \n",
        "    'n_estimators': [100,110,150,170,250]\n",
        "}\n",
        "\n",
        "rf = RandomForestRegressor(n_jobs=-1, random_state=10, oob_score=True)\n",
        "\n",
        "model = RandomizedSearchCV(\n",
        "    rf, \n",
        "    param_distributions=dists, \n",
        "    n_iter=30, \n",
        "    cv=3, \n",
        "    scoring='neg_mean_absolute_error',  \n",
        "    verbose=1,\n",
        "    n_jobs=-1\n",
        ")\n",
        "\n",
        "model.fit(X_train, y_train1)\n",
        "print('최적의 하이퍼 파라미터:', model.best_params_)\n",
        "print(\"MAE: \", model.best_score_)"
      ],
      "execution_count": 7,
      "outputs": [
        {
          "output_type": "stream",
          "text": [
            "Fitting 3 folds for each of 30 candidates, totalling 90 fits\n"
          ],
          "name": "stdout"
        },
        {
          "output_type": "stream",
          "text": [
            "[Parallel(n_jobs=-1)]: Using backend LokyBackend with 2 concurrent workers.\n",
            "[Parallel(n_jobs=-1)]: Done  46 tasks      | elapsed:  2.8min\n",
            "[Parallel(n_jobs=-1)]: Done  90 out of  90 | elapsed:  5.8min finished\n"
          ],
          "name": "stderr"
        },
        {
          "output_type": "stream",
          "text": [
            "최적의 하이퍼 파라미터: {'n_estimators': 250, 'max_depth': 40}\n",
            "MAE:  -0.06928952965394215\n"
          ],
          "name": "stdout"
        }
      ]
    },
    {
      "cell_type": "code",
      "metadata": {
        "colab": {
          "base_uri": "https://localhost:8080/"
        },
        "id": "wOfDElj6wOjq",
        "outputId": "52586410-33f9-42b4-a029-0727bb8b96d5"
      },
      "source": [
        "from sklearn.ensemble import RandomForestRegressor\n",
        "from sklearn.model_selection import GridSearchCV\n",
        "\n",
        "dists = {\n",
        "    'max_depth': [30,35,40,45,50], \n",
        "    'n_estimators': [250,300,350,400,450]\n",
        "}\n",
        "\n",
        "rf = RandomForestRegressor(n_jobs=-1, random_state=10, oob_score=True)\n",
        "\n",
        "search = GridSearchCV(rf, \n",
        "                      param_grid=dists, \n",
        "                      cv=3, \n",
        "                      scoring='neg_mean_absolute_error', \n",
        "                      verbose=1,\n",
        "                      n_jobs=-1\n",
        ")\n",
        "\n",
        "search.fit(X_train, y_train1)\n",
        "print('최적의 하이퍼 파라미터:', search.best_params_)\n",
        "print(\"neg MAE: \", search.best_score_)"
      ],
      "execution_count": 8,
      "outputs": [
        {
          "output_type": "stream",
          "text": [
            "Fitting 3 folds for each of 25 candidates, totalling 75 fits\n"
          ],
          "name": "stdout"
        },
        {
          "output_type": "stream",
          "text": [
            "[Parallel(n_jobs=-1)]: Using backend LokyBackend with 2 concurrent workers.\n",
            "[Parallel(n_jobs=-1)]: Done  46 tasks      | elapsed:  6.9min\n",
            "[Parallel(n_jobs=-1)]: Done  75 out of  75 | elapsed: 11.3min finished\n"
          ],
          "name": "stderr"
        },
        {
          "output_type": "stream",
          "text": [
            "최적의 하이퍼 파라미터: {'max_depth': 30, 'n_estimators': 350}\n",
            "neg MAE:  -0.06918281981337576\n"
          ],
          "name": "stdout"
        }
      ]
    },
    {
      "cell_type": "code",
      "metadata": {
        "colab": {
          "base_uri": "https://localhost:8080/"
        },
        "id": "cYbtSvci8ysE",
        "outputId": "0fcc72dd-37bd-4a97-814b-105da93e034a"
      },
      "source": [
        "from sklearn.ensemble import RandomForestRegressor\n",
        "from sklearn.metrics import mean_absolute_error\n",
        "\n",
        "rf = RandomForestRegressor(n_jobs=-1, random_state=10, max_depth=30, n_estimators=350, oob_score=True)\n",
        "\n",
        "rf.fit(X_train,y_train1)\n",
        "pred = rf.predict(X_test)\n",
        "print(\"test MAE\", mean_absolute_error(y_test1, pred))"
      ],
      "execution_count": 17,
      "outputs": [
        {
          "output_type": "stream",
          "text": [
            "test MAE 0.058865244671491394\n"
          ],
          "name": "stdout"
        }
      ]
    },
    {
      "cell_type": "markdown",
      "metadata": {
        "id": "Qm1aZqMpxi0T"
      },
      "source": [
        "###* 파주기 예측 모델"
      ]
    },
    {
      "cell_type": "code",
      "metadata": {
        "colab": {
          "base_uri": "https://localhost:8080/"
        },
        "id": "77j7Rd4Rn7so",
        "outputId": "d192aa52-0bde-4d50-a500-8ec0484f4ab8"
      },
      "source": [
        "dists = {\n",
        "    'max_depth': [10,20,40,50,100,120], \n",
        "    'n_estimators': [100,110,150,170,250]\n",
        "}\n",
        "\n",
        "rf = RandomForestRegressor(n_jobs=-1, random_state=10, oob_score=True)\n",
        "\n",
        "model = RandomizedSearchCV(\n",
        "    rf, \n",
        "    param_distributions=dists, \n",
        "    n_iter=30, \n",
        "    cv=3, \n",
        "    scoring='neg_mean_absolute_error',  \n",
        "    verbose=1,\n",
        "    n_jobs=-1\n",
        ")\n",
        "\n",
        "model.fit(X_train, y_train2)\n",
        "print('최적의 하이퍼 파라미터:', model.best_params_)\n",
        "print(\"MAE: \", model.best_score_)"
      ],
      "execution_count": 18,
      "outputs": [
        {
          "output_type": "stream",
          "text": [
            "Fitting 3 folds for each of 30 candidates, totalling 90 fits\n"
          ],
          "name": "stdout"
        },
        {
          "output_type": "stream",
          "text": [
            "[Parallel(n_jobs=-1)]: Using backend LokyBackend with 2 concurrent workers.\n",
            "[Parallel(n_jobs=-1)]: Done  46 tasks      | elapsed:  3.1min\n",
            "[Parallel(n_jobs=-1)]: Done  90 out of  90 | elapsed:  6.5min finished\n"
          ],
          "name": "stderr"
        },
        {
          "output_type": "stream",
          "text": [
            "최적의 하이퍼 파라미터: {'n_estimators': 250, 'max_depth': 40}\n",
            "MAE:  -0.4607923945382966\n"
          ],
          "name": "stdout"
        }
      ]
    },
    {
      "cell_type": "code",
      "metadata": {
        "colab": {
          "base_uri": "https://localhost:8080/"
        },
        "id": "_lx_PwPMoD3_",
        "outputId": "522d59f1-d074-428f-8f74-cd4113275d7b"
      },
      "source": [
        "dists = {\n",
        "    'max_depth': [25, 30, 35, 40, 45, 48], \n",
        "    'n_estimators': [250,300,350,400,450]\n",
        "}\n",
        "\n",
        "rf = RandomForestRegressor(n_jobs=-1, random_state=10, oob_score=True)\n",
        "\n",
        "search = GridSearchCV(rf, \n",
        "                      param_grid=dists, \n",
        "                      cv=3, \n",
        "                      scoring='neg_mean_absolute_error', \n",
        "                      verbose=1,\n",
        "                      n_jobs=-1\n",
        ")\n",
        "\n",
        "search.fit(X_train, y_train2)\n",
        "print('최적의 하이퍼 파라미터:', search.best_params_)\n",
        "print(\"neg MAE: \", search.best_score_)"
      ],
      "execution_count": 19,
      "outputs": [
        {
          "output_type": "stream",
          "text": [
            "Fitting 3 folds for each of 30 candidates, totalling 90 fits\n"
          ],
          "name": "stdout"
        },
        {
          "output_type": "stream",
          "text": [
            "[Parallel(n_jobs=-1)]: Using backend LokyBackend with 2 concurrent workers.\n",
            "[Parallel(n_jobs=-1)]: Done  46 tasks      | elapsed:  8.1min\n",
            "[Parallel(n_jobs=-1)]: Done  90 out of  90 | elapsed: 15.8min finished\n"
          ],
          "name": "stderr"
        },
        {
          "output_type": "stream",
          "text": [
            "최적의 하이퍼 파라미터: {'max_depth': 35, 'n_estimators': 300}\n",
            "neg MAE:  -0.4604840160773294\n"
          ],
          "name": "stdout"
        }
      ]
    },
    {
      "cell_type": "code",
      "metadata": {
        "colab": {
          "base_uri": "https://localhost:8080/"
        },
        "id": "MoL1_8Am2EvT",
        "outputId": "9fa8a5f1-0204-41df-c893-7dc53b2d3e24"
      },
      "source": [
        "dists = {\n",
        "    'max_depth': range(31,40), \n",
        "    'n_estimators': range(321,349)\n",
        "}\n",
        "\n",
        "rf = RandomForestRegressor(n_jobs=-1, random_state=10, oob_score=True)\n",
        "\n",
        "search = GridSearchCV(rf, \n",
        "                      param_grid=dists, \n",
        "                      cv=3, \n",
        "                      scoring='neg_mean_absolute_error', \n",
        "                      verbose=1,\n",
        "                      n_jobs=-1\n",
        ")\n",
        "\n",
        "search.fit(X_train, y_train2)\n",
        "print('최적의 하이퍼 파라미터:', search.best_params_)\n",
        "print(\"neg MAE: \", search.best_score_)"
      ],
      "execution_count": 21,
      "outputs": [
        {
          "output_type": "stream",
          "text": [
            "Fitting 3 folds for each of 252 candidates, totalling 756 fits\n"
          ],
          "name": "stdout"
        },
        {
          "output_type": "stream",
          "text": [
            "[Parallel(n_jobs=-1)]: Using backend LokyBackend with 2 concurrent workers.\n",
            "[Parallel(n_jobs=-1)]: Done  46 tasks      | elapsed:  7.6min\n",
            "[Parallel(n_jobs=-1)]: Done 196 tasks      | elapsed: 32.8min\n",
            "[Parallel(n_jobs=-1)]: Done 446 tasks      | elapsed: 74.7min\n",
            "[Parallel(n_jobs=-1)]: Done 756 out of 756 | elapsed: 126.7min finished\n"
          ],
          "name": "stderr"
        },
        {
          "output_type": "stream",
          "text": [
            "최적의 하이퍼 파라미터: {'max_depth': 33, 'n_estimators': 341}\n",
            "neg MAE:  -0.46037518693557455\n"
          ],
          "name": "stdout"
        }
      ]
    },
    {
      "cell_type": "markdown",
      "metadata": {
        "id": "WpVEYnXyDnLa"
      },
      "source": [
        "###* 최고높이 예측 모델"
      ]
    },
    {
      "cell_type": "code",
      "metadata": {
        "colab": {
          "base_uri": "https://localhost:8080/"
        },
        "id": "sIctSQR0DgZG",
        "outputId": "17bcd082-299d-4ad1-c6be-e358f30ae659"
      },
      "source": [
        "from sklearn.model_selection import RandomizedSearchCV\n",
        "from sklearn.ensemble import RandomForestRegressor\n",
        "\n",
        "dists = {\n",
        "    'max_depth': [10,20,40,50,100,120], \n",
        "    'n_estimators': [100,110,150,170,250]\n",
        "}\n",
        "\n",
        "rf = RandomForestRegressor(n_jobs=-1, random_state=10, oob_score=True)\n",
        "\n",
        "model = RandomizedSearchCV(\n",
        "    rf, \n",
        "    param_distributions=dists, \n",
        "    n_iter=30, \n",
        "    cv=3, \n",
        "    scoring='neg_mean_absolute_error',  \n",
        "    verbose=1,\n",
        "    n_jobs=-1\n",
        ")\n",
        "\n",
        "model.fit(X_train, y_train3)\n",
        "print('최적의 하이퍼 파라미터:', model.best_params_)\n",
        "print(\"MAE: \", model.best_score_)"
      ],
      "execution_count": 22,
      "outputs": [
        {
          "output_type": "stream",
          "text": [
            "Fitting 3 folds for each of 30 candidates, totalling 90 fits\n"
          ],
          "name": "stdout"
        },
        {
          "output_type": "stream",
          "text": [
            "[Parallel(n_jobs=-1)]: Using backend LokyBackend with 2 concurrent workers.\n",
            "[Parallel(n_jobs=-1)]: Done  46 tasks      | elapsed:  3.0min\n",
            "[Parallel(n_jobs=-1)]: Done  90 out of  90 | elapsed:  6.2min finished\n"
          ],
          "name": "stderr"
        },
        {
          "output_type": "stream",
          "text": [
            "최적의 하이퍼 파라미터: {'n_estimators': 170, 'max_depth': 40}\n",
            "MAE:  -0.1525658406348707\n"
          ],
          "name": "stdout"
        }
      ]
    },
    {
      "cell_type": "code",
      "metadata": {
        "colab": {
          "base_uri": "https://localhost:8080/"
        },
        "id": "gBMih9SDxkkZ",
        "outputId": "79c072ee-d22c-4161-da43-aa9fd739be05"
      },
      "source": [
        "from sklearn.ensemble import RandomForestRegressor\n",
        "from sklearn.model_selection import GridSearchCV\n",
        "\n",
        "dists = {\n",
        "    'max_depth': [30,35,40,45,47], \n",
        "    'n_estimators': [160,170,190,220,240]\n",
        "}\n",
        "\n",
        "rf = RandomForestRegressor(n_jobs=-1, random_state=10, oob_score=True)\n",
        "\n",
        "search = GridSearchCV(rf, \n",
        "                      param_grid=dists, \n",
        "                      cv=3, \n",
        "                      scoring='neg_mean_absolute_error', \n",
        "                      verbose=1,\n",
        "                      n_jobs=-1\n",
        ")\n",
        "\n",
        "search.fit(X_train, y_train3)\n",
        "print('최적의 하이퍼 파라미터:', search.best_params_)\n",
        "print(\"neg MAE: \", search.best_score_)"
      ],
      "execution_count": 5,
      "outputs": [
        {
          "output_type": "stream",
          "text": [
            "Fitting 3 folds for each of 25 candidates, totalling 75 fits\n"
          ],
          "name": "stdout"
        },
        {
          "output_type": "stream",
          "text": [
            "[Parallel(n_jobs=-1)]: Using backend LokyBackend with 2 concurrent workers.\n",
            "[Parallel(n_jobs=-1)]: Done  46 tasks      | elapsed:  4.1min\n",
            "[Parallel(n_jobs=-1)]: Done  75 out of  75 | elapsed:  6.8min finished\n"
          ],
          "name": "stderr"
        },
        {
          "output_type": "stream",
          "text": [
            "최적의 하이퍼 파라미터: {'max_depth': 40, 'n_estimators': 190}\n",
            "neg MAE:  -0.15236647494165345\n"
          ],
          "name": "stdout"
        }
      ]
    },
    {
      "cell_type": "code",
      "metadata": {
        "colab": {
          "base_uri": "https://localhost:8080/"
        },
        "id": "DYpRYllz18Ic",
        "outputId": "d6f90436-b46c-4559-f1ff-4238a4c2cf36"
      },
      "source": [
        "from sklearn.ensemble import RandomForestRegressor\n",
        "from sklearn.model_selection import GridSearchCV\n",
        "\n",
        "dists = {\n",
        "    'max_depth': [36,38,40,42], \n",
        "    'n_estimators': [175,180,190,200,210,215]\n",
        "}\n",
        "\n",
        "rf = RandomForestRegressor(n_jobs=-1, random_state=10, oob_score=True)\n",
        "\n",
        "search = GridSearchCV(rf, \n",
        "                      param_grid=dists, \n",
        "                      cv=3, \n",
        "                      scoring='neg_mean_absolute_error', \n",
        "                      verbose=1,\n",
        "                      n_jobs=-1\n",
        ")\n",
        "\n",
        "search.fit(X_train, y_train3)\n",
        "print('최적의 하이퍼 파라미터:', search.best_params_)\n",
        "print(\"neg MAE: \", search.best_score_)"
      ],
      "execution_count": 7,
      "outputs": [
        {
          "output_type": "stream",
          "text": [
            "Fitting 3 folds for each of 24 candidates, totalling 72 fits\n"
          ],
          "name": "stdout"
        },
        {
          "output_type": "stream",
          "text": [
            "[Parallel(n_jobs=-1)]: Using backend LokyBackend with 2 concurrent workers.\n",
            "[Parallel(n_jobs=-1)]: Done  46 tasks      | elapsed:  4.1min\n",
            "[Parallel(n_jobs=-1)]: Done  72 out of  72 | elapsed:  6.5min finished\n"
          ],
          "name": "stderr"
        },
        {
          "output_type": "stream",
          "text": [
            "최적의 하이퍼 파라미터: {'max_depth': 36, 'n_estimators': 190}\n",
            "neg MAE:  -0.15236545814527655\n"
          ],
          "name": "stdout"
        }
      ]
    }
  ]
}