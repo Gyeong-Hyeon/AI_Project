{
 "cells": [
  {
   "cell_type": "markdown",
   "metadata": {},
   "source": [
    "# 일출/일몰시간 크롤링"
   ]
  },
  {
   "cell_type": "code",
   "execution_count": 6,
   "metadata": {},
   "outputs": [
    {
     "name": "stderr",
     "output_type": "stream",
     "text": [
      "<ipython-input-6-55b6de5a8556>:7: DeprecationWarning: use options instead of chrome_options\n",
      "  driver = webdriver.Chrome(chrome_options=chrome_options, executable_path='C:/Users/user/Desktop/chromedriver.exe')\n"
     ]
    },
    {
     "name": "stdout",
     "output_type": "stream",
     "text": [
      "06\n",
      "19\n"
     ]
    }
   ],
   "source": [
    "from bs4 import BeautifulSoup\n",
    "from selenium import webdriver\n",
    "from selenium.webdriver.chrome.options import Options\n",
    "\n",
    "chrome_options = Options()\n",
    "chrome_options.add_argument('--headless')\n",
    "driver = webdriver.Chrome(chrome_options=chrome_options, executable_path='C:/Users/user/Desktop/chromedriver.exe')\n",
    "\n",
    "target_date = '2021-04-14'\n",
    "url = f'https://astro.kasi.re.kr/life/pageView/9?lat=33.24487748986555&lng=126.40578906148072&date={target_date}&address=제주특별자치도+서귀포시+중문관광로72번길+114'\n",
    "\n",
    "driver.get(url)\n",
    "sunrise = BeautifulSoup(driver.page_source, 'html.parser').find_all('span', {'class': 'sunrise'})[0].string.split('시')[0]\n",
    "sunset = BeautifulSoup(driver.page_source, 'html.parser').find_all('span', {'class': 'sunset'})[0].string.split('시')[0]\n",
    "\n",
    "print(sunrise)\n",
    "print(sunset)"
   ]
  },
  {
   "cell_type": "code",
   "execution_count": 9,
   "metadata": {},
   "outputs": [
    {
     "name": "stdout",
     "output_type": "stream",
     "text": [
      "<class 'int'> 6\n",
      "<class 'int'> 19\n"
     ]
    }
   ],
   "source": [
    "sunrise = int(sunrise)\n",
    "sunset = int(sunset)\n",
    "\n",
    "print(type(sunrise),sunrise)\n",
    "print(type(sunset),sunset)"
   ]
  },
  {
   "cell_type": "markdown",
   "metadata": {},
   "source": [
    "# Features 크롤링"
   ]
  },
  {
   "cell_type": "code",
   "execution_count": 5,
   "metadata": {},
   "outputs": [
    {
     "name": "stdout",
     "output_type": "stream",
     "text": [
      "Collecting datetime\n",
      "  Downloading DateTime-4.3-py2.py3-none-any.whl (60 kB)\n",
      "Requirement already satisfied: pytz in c:\\users\\user\\anaconda3\\lib\\site-packages (from datetime) (2020.1)\n",
      "Requirement already satisfied: zope.interface in c:\\users\\user\\anaconda3\\lib\\site-packages (from datetime) (5.1.2)\n",
      "Requirement already satisfied: setuptools in c:\\users\\user\\anaconda3\\lib\\site-packages (from zope.interface->datetime) (50.3.1.post20201107)\n",
      "Installing collected packages: datetime\n",
      "Successfully installed datetime-4.3\n"
     ]
    }
   ],
   "source": [
    "!pip install datetime"
   ]
  },
  {
   "cell_type": "code",
   "execution_count": 3,
   "metadata": {},
   "outputs": [],
   "source": [
    "target_date = '2021-04-05'"
   ]
  },
  {
   "cell_type": "code",
   "execution_count": 113,
   "metadata": {},
   "outputs": [
    {
     "name": "stderr",
     "output_type": "stream",
     "text": [
      "<ipython-input-113-baf2ab68c926>:12: DeprecationWarning: use options instead of chrome_options\n",
      "  driver = webdriver.Chrome(chrome_options=chrome_options, executable_path='C:/Users/user/Desktop/chromedriver.exe')\n"
     ]
    },
    {
     "name": "stdout",
     "output_type": "stream",
     "text": [
      "06 18\n"
     ]
    }
   ],
   "source": [
    "from datetime import datetime, timedelta\n",
    "from bs4 import BeautifulSoup\n",
    "from selenium import webdriver\n",
    "from selenium.webdriver.chrome.options import Options\n",
    "\n",
    "date = datetime.strptime(target_date, '%Y-%m-%d') +timedelta(days=-29) #예측 기준 data는 30일 전 값이므로 30일 전으로 날짜 설정\n",
    "date = str(date.strftime('%Y-%m-%d'))\n",
    "\n",
    "#일출, 일몰시간 크롤링\n",
    "chrome_options = Options()\n",
    "chrome_options.add_argument('--headless')\n",
    "driver = webdriver.Chrome(chrome_options=chrome_options, executable_path='C:/Users/user/Desktop/chromedriver.exe')\n",
    "\n",
    "url = f'https://astro.kasi.re.kr/life/pageView/9?lat=33.24487748986555&lng=126.40578906148072&date={date}&address=제주특별자치도+서귀포시+중문관광로72번길+114'\n",
    "driver.get(url)\n",
    "sunrise = BeautifulSoup(driver.page_source, 'html.parser').find_all('span', {'class': 'sunrise'})[0].string.split('시')[0]\n",
    "sunset = BeautifulSoup(driver.page_source, 'html.parser').find_all('span', {'class': 'sunset'})[0].string.split('시')[0]\n",
    "\n",
    "print(sunrise,sunset)"
   ]
  },
  {
   "cell_type": "code",
   "execution_count": 9,
   "metadata": {},
   "outputs": [
    {
     "name": "stdout",
     "output_type": "stream",
     "text": [
      "['07', '08', '09', '10', '11', '12', '13', '14', '15', '16', '17']\n"
     ]
    }
   ],
   "source": [
    "timerange = []\n",
    "for i in range(int(sunrise)+1,int(sunset)):\n",
    "    if i<10:\n",
    "        timerange.append('0'+str(i))\n",
    "    else:\n",
    "        timerange.append(str(i))\n",
    "print(timerange)"
   ]
  },
  {
   "cell_type": "code",
   "execution_count": 128,
   "metadata": {},
   "outputs": [
    {
     "name": "stderr",
     "output_type": "stream",
     "text": [
      "<ipython-input-128-872b7b7571a0>:14: DeprecationWarning: use options instead of chrome_options\n",
      "  driver = webdriver.Chrome(chrome_options=chrome_options, executable_path='C:/Users/user/Desktop/chromedriver.exe')\n"
     ]
    },
    {
     "data": {
      "text/html": [
       "<div>\n",
       "<style scoped>\n",
       "    .dataframe tbody tr th:only-of-type {\n",
       "        vertical-align: middle;\n",
       "    }\n",
       "\n",
       "    .dataframe tbody tr th {\n",
       "        vertical-align: top;\n",
       "    }\n",
       "\n",
       "    .dataframe thead th {\n",
       "        text-align: right;\n",
       "    }\n",
       "</style>\n",
       "<table border=\"1\" class=\"dataframe\">\n",
       "  <thead>\n",
       "    <tr style=\"text-align: right;\">\n",
       "      <th></th>\n",
       "      <th>0</th>\n",
       "      <th>1</th>\n",
       "      <th>2</th>\n",
       "      <th>3</th>\n",
       "      <th>4</th>\n",
       "      <th>5</th>\n",
       "      <th>6</th>\n",
       "      <th>7</th>\n",
       "      <th>8</th>\n",
       "      <th>9</th>\n",
       "      <th>10</th>\n",
       "      <th>11</th>\n",
       "      <th>12</th>\n",
       "      <th>13</th>\n",
       "      <th>14</th>\n",
       "    </tr>\n",
       "  </thead>\n",
       "  <tbody>\n",
       "    <tr>\n",
       "      <th>0</th>\n",
       "      <td>3</td>\n",
       "      <td>7</td>\n",
       "      <td>17</td>\n",
       "      <td>8.7</td>\n",
       "      <td>22</td>\n",
       "      <td>11</td>\n",
       "      <td>1025</td>\n",
       "      <td>68</td>\n",
       "      <td>11.8</td>\n",
       "      <td>15.1</td>\n",
       "      <td>2.9</td>\n",
       "      <td>1.8</td>\n",
       "      <td>1.3</td>\n",
       "      <td>7.1</td>\n",
       "      <td>47</td>\n",
       "    </tr>\n",
       "    <tr>\n",
       "      <th>1</th>\n",
       "      <td>3</td>\n",
       "      <td>7</td>\n",
       "      <td>18</td>\n",
       "      <td>7.8</td>\n",
       "      <td>24</td>\n",
       "      <td>9.8</td>\n",
       "      <td>1025.4</td>\n",
       "      <td>71</td>\n",
       "      <td>11.6</td>\n",
       "      <td>15.1</td>\n",
       "      <td>2.3</td>\n",
       "      <td>1.8</td>\n",
       "      <td>1.3</td>\n",
       "      <td>7.1</td>\n",
       "      <td>23</td>\n",
       "    </tr>\n",
       "  </tbody>\n",
       "</table>\n",
       "</div>"
      ],
      "text/plain": [
       "   0   1   2    3   4    5       6   7     8     9    10   11   12   13  14\n",
       "0   3   7  17  8.7  22   11    1025  68  11.8  15.1  2.9  1.8  1.3  7.1  47\n",
       "1   3   7  18  7.8  24  9.8  1025.4  71  11.6  15.1  2.3  1.8  1.3  7.1  23"
      ]
     },
     "execution_count": 128,
     "metadata": {},
     "output_type": "execute_result"
    }
   ],
   "source": [
    "import time\n",
    "import pandas as pd\n",
    "from tqdm import tqdm\n",
    "\n",
    "from selenium import webdriver\n",
    "\n",
    "starttime = int(sunrise)+2\n",
    "endtime = int(sunset)\n",
    "\n",
    "url = 'https://data.kma.go.kr/data/sea/selectBuoyRltmList.do?pgmNo=52'\n",
    "\n",
    "chrome_options = Options()\n",
    "chrome_options.add_argument('--headless')\n",
    "driver = webdriver.Chrome(chrome_options=chrome_options, executable_path='C:/Users/user/Desktop/chromedriver.exe')\n",
    "driver.get(url=url)\n",
    "time.sleep(1)\n",
    "\n",
    "startdate = driver.find_element_by_xpath('//*[@id=\"startDt_d\"]')\n",
    "startdate.clear()\n",
    "startdate.send_keys(date)\n",
    "\n",
    "driver.find_element_by_xpath(f'//*[@id=\"startHh\"]/option[{starttime+10}]').click()\n",
    "\n",
    "enddate = driver.find_element_by_xpath('//*[@id=\"endDt_d\"]')\n",
    "enddate.clear()\n",
    "enddate.send_keys(date)\n",
    "\n",
    "driver.find_element_by_xpath(f'//*[@id=\"endHh\"]/option[{endtime}]').click()\n",
    "\n",
    "driver.find_element_by_xpath('//*[@id=\"ztree_2_switch\"]').click()\n",
    "time.sleep(1)\n",
    "driver.find_element_by_xpath('//*[@id=\"ztree_9_check\"]').click()\n",
    "driver.find_element_by_xpath('//*[@id=\"ztree1_1_check\"]').click()\n",
    "\n",
    "driver.find_element_by_xpath('//*[@id=\"dsForm\"]/div[3]/button').click()\n",
    "time.sleep(1)\n",
    "\n",
    "tbody = driver.find_element_by_xpath('//*[@id=\"contentsList\"]')\n",
    "tr = tbody.find_elements_by_tag_name('tr')\n",
    "\n",
    "data = []\n",
    "for td in tr:\n",
    "    row_list = td.text.split()\n",
    "    month = row_list[1].split('-')[1]\n",
    "    day = row_list[1].split('-')[2]\n",
    "    time = row_list[2].split(':')[0]\n",
    "    row_list[0]=int(month)\n",
    "    row_list[1]=int(day)\n",
    "    row_list[2]=int(time)\n",
    "    data.append(row_list)\n",
    "\n",
    "df = pd.DataFrame(data)\n",
    "df"
   ]
  },
  {
   "cell_type": "code",
   "execution_count": 145,
   "metadata": {},
   "outputs": [
    {
     "data": {
      "text/plain": [
       "0      int64\n",
       "1      int64\n",
       "2      int64\n",
       "3     object\n",
       "4     object\n",
       "5     object\n",
       "6     object\n",
       "7     object\n",
       "8     object\n",
       "9     object\n",
       "10    object\n",
       "11    object\n",
       "12    object\n",
       "13    object\n",
       "14    object\n",
       "dtype: object"
      ]
     },
     "execution_count": 145,
     "metadata": {},
     "output_type": "execute_result"
    }
   ],
   "source": [
    "df.dtypes"
   ]
  },
  {
   "cell_type": "code",
   "execution_count": 147,
   "metadata": {},
   "outputs": [
    {
     "data": {
      "text/plain": [
       "0       int64\n",
       "1       int64\n",
       "2       int64\n",
       "3     float64\n",
       "4       int64\n",
       "5     float64\n",
       "6     float64\n",
       "7       int64\n",
       "8     float64\n",
       "9     float64\n",
       "10    float64\n",
       "11    float64\n",
       "12    float64\n",
       "13    float64\n",
       "14      int64\n",
       "dtype: object"
      ]
     },
     "execution_count": 147,
     "metadata": {},
     "output_type": "execute_result"
    }
   ],
   "source": [
    "df = df.apply(pd.to_numeric)\n",
    "df.dtypes"
   ]
  },
  {
   "cell_type": "code",
   "execution_count": 143,
   "metadata": {},
   "outputs": [
    {
     "name": "stdout",
     "output_type": "stream",
     "text": [
      "2021-04-05에 서핑하기 좋아요! 1,2,3시에 서핑하는거 추천!\n"
     ]
    }
   ],
   "source": [
    "print(f\"{target_date}에 서핑하기 좋아요! {','.join(str(e)for e in a) }시에 서핑하는거 추천!\")\n",
    "f'{target_date}는 숙련자 수준의 파도가 치는 날이라 위험할 수 있어요!! 조심해서 {','.join(str(e)for e in times)}시 정도를 노려보세요'"
   ]
  }
 ],
 "metadata": {
  "kernelspec": {
   "display_name": "Python 3",
   "language": "python",
   "name": "python3"
  },
  "language_info": {
   "codemirror_mode": {
    "name": "ipython",
    "version": 3
   },
   "file_extension": ".py",
   "mimetype": "text/x-python",
   "name": "python",
   "nbconvert_exporter": "python",
   "pygments_lexer": "ipython3",
   "version": "3.8.5"
  }
 },
 "nbformat": 4,
 "nbformat_minor": 4
}
